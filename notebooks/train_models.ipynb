{
 "cells": [
  {
   "cell_type": "code",
   "execution_count": 1,
   "metadata": {},
   "outputs": [
    {
     "name": "stdout",
     "output_type": "stream",
     "text": [
      "Requirement already satisfied: scikit-learn in /home/uemerson/miniconda3/envs/match_lol_classification/lib/python3.12/site-packages (1.5.2)\n",
      "Requirement already satisfied: numpy>=1.19.5 in /home/uemerson/miniconda3/envs/match_lol_classification/lib/python3.12/site-packages (from scikit-learn) (1.26.4)\n",
      "Requirement already satisfied: scipy>=1.6.0 in /home/uemerson/miniconda3/envs/match_lol_classification/lib/python3.12/site-packages (from scikit-learn) (1.14.1)\n",
      "Requirement already satisfied: joblib>=1.2.0 in /home/uemerson/miniconda3/envs/match_lol_classification/lib/python3.12/site-packages (from scikit-learn) (1.4.2)\n",
      "Requirement already satisfied: threadpoolctl>=3.1.0 in /home/uemerson/miniconda3/envs/match_lol_classification/lib/python3.12/site-packages (from scikit-learn) (3.5.0)\n",
      "Note: you may need to restart the kernel to use updated packages.\n"
     ]
    }
   ],
   "source": [
    "%pip install scikit-learn"
   ]
  },
  {
   "cell_type": "code",
   "execution_count": 2,
   "metadata": {},
   "outputs": [
    {
     "name": "stdout",
     "output_type": "stream",
     "text": [
      "Requirement already satisfied: xgboost in /home/uemerson/miniconda3/envs/match_lol_classification/lib/python3.12/site-packages (2.1.1)\n",
      "Requirement already satisfied: numpy in /home/uemerson/miniconda3/envs/match_lol_classification/lib/python3.12/site-packages (from xgboost) (1.26.4)\n",
      "Requirement already satisfied: nvidia-nccl-cu12 in /home/uemerson/miniconda3/envs/match_lol_classification/lib/python3.12/site-packages (from xgboost) (2.23.4)\n",
      "Requirement already satisfied: scipy in /home/uemerson/miniconda3/envs/match_lol_classification/lib/python3.12/site-packages (from xgboost) (1.14.1)\n",
      "Note: you may need to restart the kernel to use updated packages.\n"
     ]
    }
   ],
   "source": [
    "%pip install xgboost"
   ]
  },
  {
   "cell_type": "code",
   "execution_count": 3,
   "metadata": {},
   "outputs": [],
   "source": [
    "import warnings\n",
    "from sklearn.preprocessing import MinMaxScaler\n",
    "from sklearn.linear_model import LogisticRegressionCV, LogisticRegression\n",
    "from sklearn.ensemble import RandomForestClassifier\n",
    "from sklearn.metrics import accuracy_score, confusion_matrix, classification_report\n",
    "from sklearn.model_selection import train_test_split\n",
    "from sklearn.model_selection import GridSearchCV\n",
    "from xgboost import XGBClassifier\n",
    "import pandas as pd\n",
    "import numpy as np\n",
    "import time\n",
    "\n",
    "warnings.filterwarnings(\"ignore\")"
   ]
  },
  {
   "cell_type": "code",
   "execution_count": 4,
   "metadata": {},
   "outputs": [],
   "source": [
    "def logistic_regression_binary(X_train, X_test, y_train, y_test, debug=1):\n",
    "    lr_model = LogisticRegression(random_state=42)\n",
    "    \n",
    "    param_grid = {\n",
    "        'C': [0.01, 0.1, 1, 10, 100],\n",
    "        'penalty': ['l1', 'l2'],\n",
    "        'solver': ['liblinear', 'lbfgs', 'saga'],\n",
    "        'max_iter': [100, 200, 300]\n",
    "    }\n",
    "\n",
    "    grid_search = GridSearchCV(lr_model, param_grid, cv=10)\n",
    "    start = time.time()\n",
    "    grid_search.fit(X_train, y_train)\n",
    "    end = time.time()\n",
    "\n",
    "    execution_time = end - start\n",
    "\n",
    "    best_model = grid_search.best_estimator_\n",
    "\n",
    "    y_pred = best_model.predict(X_test)\n",
    "    accuracy = accuracy_score(y_test, y_pred)\n",
    "\n",
    "    class_report = classification_report(y_test, y_pred)\n",
    "    confusion = confusion_matrix(y_test, y_pred)\n",
    "\n",
    "    if debug == 1:\n",
    "        # Visualizando resultados\n",
    "        print(\"Logistic Regression\")\n",
    "        print(\"-\" * 40)\n",
    "        print('Tempo de execução:', execution_time)\n",
    "        print('Acurácia:', accuracy)\n",
    "        print('best_estimator_', grid_search.best_estimator_)\n",
    "        print(\"\\nMatris de Confusão:\\n\", confusion)\n",
    "        print(\"\\nRelatório de Classificação:\\n\", class_report)"
   ]
  },
  {
   "cell_type": "code",
   "execution_count": 5,
   "metadata": {},
   "outputs": [],
   "source": [
    "def random_forest(X_train, X_test, y_train, y_test, debug=1):\n",
    "    rf_model = RandomForestClassifier(n_estimators=100, random_state=42)\n",
    "\n",
    "    param_grid = {\n",
    "        'n_estimators': [100, 500],\n",
    "        'max_depth': [None, 10, 20],\n",
    "        'min_samples_split': [2, 5, 10],\n",
    "        'min_samples_leaf': [1, 2, 4],\n",
    "        'max_features': ['auto', 'sqrt']\n",
    "    }\n",
    "\n",
    "    grid_search = GridSearchCV(rf_model, param_grid, cv=10)\n",
    "    start = time.time()\n",
    "    grid_search.fit(X_train, y_train)\n",
    "    end = time.time()\n",
    "\n",
    "    execution_time = end - start\n",
    "\n",
    "    best_model = grid_search.best_estimator_\n",
    "\n",
    "    y_pred = best_model.predict(X_test)\n",
    "    accuracy = accuracy_score(y_test, y_pred)\n",
    "\n",
    "    class_report = classification_report(y_test, y_pred)\n",
    "    confusion = confusion_matrix(y_test, y_pred)\n",
    "\n",
    "    class_report = classification_report(y_test, y_pred)\n",
    "    confusion = confusion_matrix(y_test, y_pred)\n",
    "\n",
    "    if debug == 1:\n",
    "        # Visualizando resultados\n",
    "        print(\"Random Forest\")\n",
    "        print(\"-\" * 40)\n",
    "        print('Tempo de execução:', execution_time)\n",
    "        print('Acurácia:', accuracy)\n",
    "        print('best_estimator_', grid_search.best_estimator_)\n",
    "        print(\"\\nMatris de Confusão:\\n\", confusion)\n",
    "        print(\"\\nRelatório de Classificação:\\n\", class_report)"
   ]
  },
  {
   "cell_type": "code",
   "execution_count": 6,
   "metadata": {},
   "outputs": [],
   "source": [
    "def xgb(X_train, X_test, y_train, y_test, debug=1):\n",
    "    xgb_model = XGBClassifier(random_state=42)\n",
    "\n",
    "    param_grid = {\n",
    "        'min_child_weight': [1, 3, 5],\n",
    "        'gamma': [0, 0.5, 1],\n",
    "        # 'colsample_bytree': [0.6, 1.0],\n",
    "        # 'max_depth': [3, 4, 5, 6]\n",
    "        'subsample': [0.8],\n",
    "        'colsample_bytree': [0.8],\n",
    "        'max_depth': [None, 3, 5, 10, 20],\n",
    "        'n_estimators': [100, 500],\n",
    "    }\n",
    "\n",
    "    grid_search = GridSearchCV(xgb_model, param_grid, cv=10)\n",
    "    start = time.time()\n",
    "    grid_search.fit(X_train, y_train)\n",
    "    end = time.time()\n",
    "\n",
    "    execution_time = end - start\n",
    "\n",
    "    best_model = grid_search.best_estimator_\n",
    "\n",
    "    y_pred = best_model.predict(X_test)\n",
    "    accuracy = accuracy_score(y_test, y_pred)\n",
    "\n",
    "    class_report = classification_report(y_test, y_pred)\n",
    "    confusion = confusion_matrix(y_test, y_pred)\n",
    "\n",
    "    if debug == 1:\n",
    "        # Visualizando resultados\n",
    "        print(\"XGB\")\n",
    "        print(\"-\" * 40)\n",
    "        print('Tempo de execução:', execution_time)\n",
    "        print('Acurácia:', accuracy)\n",
    "        print('best_estimator_', grid_search.best_estimator_)\n",
    "        print(\"\\nMatris de Confusão:\\n\", confusion)\n",
    "        print(\"\\nRelatório de Classificação:\\n\", class_report)"
   ]
  },
  {
   "cell_type": "code",
   "execution_count": 7,
   "metadata": {},
   "outputs": [],
   "source": [
    "df = pd.read_csv(\"../datasets/transformed_dataset.csv\", sep=\";\")\n",
    "\n",
    "X = df.drop([\"target\"], axis=1)\n",
    "y = df[\"target\"]\n",
    "\n",
    "scaler = MinMaxScaler()\n",
    "X = pd.DataFrame(scaler.fit_transform(X), columns=X.columns)\n",
    "\n",
    "# Split the dataset into training and testing sets\n",
    "X_train, X_test, y_train, y_test = train_test_split(X, y, test_size=0.3, random_state=42)"
   ]
  },
  {
   "cell_type": "code",
   "execution_count": 8,
   "metadata": {},
   "outputs": [
    {
     "name": "stdout",
     "output_type": "stream",
     "text": [
      "Logistic Regression\n",
      "----------------------------------------\n",
      "Tempo de execução: 1054.701627254486\n",
      "Acurácia: 0.8561121418264276\n",
      "best_estimator_ LogisticRegression(C=0.1, penalty='l1', random_state=42, solver='saga')\n",
      "\n",
      "Matris de Confusão:\n",
      " [[1865  398]\n",
      " [ 300 2288]]\n",
      "\n",
      "Relatório de Classificação:\n",
      "               precision    recall  f1-score   support\n",
      "\n",
      "           0       0.86      0.82      0.84      2263\n",
      "           1       0.85      0.88      0.87      2588\n",
      "\n",
      "    accuracy                           0.86      4851\n",
      "   macro avg       0.86      0.85      0.86      4851\n",
      "weighted avg       0.86      0.86      0.86      4851\n",
      "\n"
     ]
    }
   ],
   "source": [
    "logistic_regression_binary(X_train, X_test, y_train, y_test)"
   ]
  },
  {
   "cell_type": "code",
   "execution_count": 9,
   "metadata": {},
   "outputs": [
    {
     "name": "stdout",
     "output_type": "stream",
     "text": [
      "Random Forest\n",
      "----------------------------------------\n",
      "Tempo de execução: 3073.408132791519\n",
      "Acurácia: 0.8270459699031127\n",
      "best_estimator_ RandomForestClassifier(min_samples_split=5, n_estimators=500, random_state=42)\n",
      "\n",
      "Matris de Confusão:\n",
      " [[1780  483]\n",
      " [ 356 2232]]\n",
      "\n",
      "Relatório de Classificação:\n",
      "               precision    recall  f1-score   support\n",
      "\n",
      "           0       0.83      0.79      0.81      2263\n",
      "           1       0.82      0.86      0.84      2588\n",
      "\n",
      "    accuracy                           0.83      4851\n",
      "   macro avg       0.83      0.82      0.83      4851\n",
      "weighted avg       0.83      0.83      0.83      4851\n",
      "\n"
     ]
    }
   ],
   "source": [
    "random_forest(X_train, X_test, y_train, y_test)"
   ]
  },
  {
   "cell_type": "code",
   "execution_count": 10,
   "metadata": {},
   "outputs": [
    {
     "name": "stdout",
     "output_type": "stream",
     "text": [
      "XGB\n",
      "----------------------------------------\n",
      "Tempo de execução: 1957.0745494365692\n",
      "Acurácia: 0.8538445681302824\n",
      "best_estimator_ XGBClassifier(base_score=None, booster=None, callbacks=None,\n",
      "              colsample_bylevel=None, colsample_bynode=None,\n",
      "              colsample_bytree=0.8, device=None, early_stopping_rounds=None,\n",
      "              enable_categorical=False, eval_metric=None, feature_types=None,\n",
      "              gamma=0, grow_policy=None, importance_type=None,\n",
      "              interaction_constraints=None, learning_rate=None, max_bin=None,\n",
      "              max_cat_threshold=None, max_cat_to_onehot=None,\n",
      "              max_delta_step=None, max_depth=3, max_leaves=None,\n",
      "              min_child_weight=1, missing=nan, monotone_constraints=None,\n",
      "              multi_strategy=None, n_estimators=100, n_jobs=None,\n",
      "              num_parallel_tree=None, random_state=42, ...)\n",
      "\n",
      "Matris de Confusão:\n",
      " [[1885  378]\n",
      " [ 331 2257]]\n",
      "\n",
      "Relatório de Classificação:\n",
      "               precision    recall  f1-score   support\n",
      "\n",
      "           0       0.85      0.83      0.84      2263\n",
      "           1       0.86      0.87      0.86      2588\n",
      "\n",
      "    accuracy                           0.85      4851\n",
      "   macro avg       0.85      0.85      0.85      4851\n",
      "weighted avg       0.85      0.85      0.85      4851\n",
      "\n"
     ]
    }
   ],
   "source": [
    "xgb(X_train, X_test, y_train, y_test)"
   ]
  }
 ],
 "metadata": {
  "kernelspec": {
   "display_name": "match_lol_classification",
   "language": "python",
   "name": "python3"
  },
  "language_info": {
   "codemirror_mode": {
    "name": "ipython",
    "version": 3
   },
   "file_extension": ".py",
   "mimetype": "text/x-python",
   "name": "python",
   "nbconvert_exporter": "python",
   "pygments_lexer": "ipython3",
   "version": "3.12.7"
  }
 },
 "nbformat": 4,
 "nbformat_minor": 2
}
